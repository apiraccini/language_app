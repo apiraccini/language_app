{
 "cells": [
  {
   "attachments": {},
   "cell_type": "markdown",
   "metadata": {},
   "source": [
    "# Language Detection Model"
   ]
  },
  {
   "attachments": {},
   "cell_type": "markdown",
   "metadata": {},
   "source": [
    "## Setup"
   ]
  },
  {
   "cell_type": "code",
   "execution_count": 1,
   "metadata": {},
   "outputs": [],
   "source": [
    "import pandas as pd\n",
    "import numpy as np\n",
    "import re\n",
    "import pickle\n",
    "import os\n",
    "import string\n",
    "\n",
    "from sklearn.preprocessing import LabelEncoder\n",
    "from sklearn.pipeline import Pipeline\n",
    "from sklearn.feature_extraction.text import CountVectorizer, TfidfTransformer\n",
    "from sklearn.decomposition import TruncatedSVD\n",
    "from sklearn.ensemble import HistGradientBoostingClassifier\n",
    "\n",
    "from sklearn.model_selection import cross_validate, StratifiedKFold\n",
    "\n",
    "import warnings\n",
    "warnings.filterwarnings(\"ignore\")"
   ]
  },
  {
   "cell_type": "code",
   "execution_count": 2,
   "metadata": {},
   "outputs": [
    {
     "data": {
      "text/html": [
       "<div>\n",
       "<style scoped>\n",
       "    .dataframe tbody tr th:only-of-type {\n",
       "        vertical-align: middle;\n",
       "    }\n",
       "\n",
       "    .dataframe tbody tr th {\n",
       "        vertical-align: top;\n",
       "    }\n",
       "\n",
       "    .dataframe thead th {\n",
       "        text-align: right;\n",
       "    }\n",
       "</style>\n",
       "<table border=\"1\" class=\"dataframe\">\n",
       "  <thead>\n",
       "    <tr style=\"text-align: right;\">\n",
       "      <th></th>\n",
       "      <th>text</th>\n",
       "      <th>target</th>\n",
       "    </tr>\n",
       "  </thead>\n",
       "  <tbody>\n",
       "    <tr>\n",
       "      <th>0</th>\n",
       "      <td>Nature, in the broadest sense, is the natural...</td>\n",
       "      <td>English</td>\n",
       "    </tr>\n",
       "    <tr>\n",
       "      <th>1</th>\n",
       "      <td>\"Nature\" can refer to the phenomena of the phy...</td>\n",
       "      <td>English</td>\n",
       "    </tr>\n",
       "    <tr>\n",
       "      <th>2</th>\n",
       "      <td>The study of nature is a large, if not the onl...</td>\n",
       "      <td>English</td>\n",
       "    </tr>\n",
       "    <tr>\n",
       "      <th>3</th>\n",
       "      <td>Although humans are part of nature, human acti...</td>\n",
       "      <td>English</td>\n",
       "    </tr>\n",
       "    <tr>\n",
       "      <th>4</th>\n",
       "      <td>[1] The word nature is borrowed from the Old F...</td>\n",
       "      <td>English</td>\n",
       "    </tr>\n",
       "  </tbody>\n",
       "</table>\n",
       "</div>"
      ],
      "text/plain": [
       "                                                text   target\n",
       "0   Nature, in the broadest sense, is the natural...  English\n",
       "1  \"Nature\" can refer to the phenomena of the phy...  English\n",
       "2  The study of nature is a large, if not the onl...  English\n",
       "3  Although humans are part of nature, human acti...  English\n",
       "4  [1] The word nature is borrowed from the Old F...  English"
      ]
     },
     "execution_count": 2,
     "metadata": {},
     "output_type": "execute_result"
    }
   ],
   "source": [
    "# load data for language detection\n",
    "df1 = pd.read_csv('data/LanguageDetection.csv')\n",
    "df1.columns = ['text', 'target']\n",
    "df1.head()"
   ]
  },
  {
   "cell_type": "code",
   "execution_count": 3,
   "metadata": {},
   "outputs": [
    {
     "data": {
      "text/html": [
       "<div>\n",
       "<style scoped>\n",
       "    .dataframe tbody tr th:only-of-type {\n",
       "        vertical-align: middle;\n",
       "    }\n",
       "\n",
       "    .dataframe tbody tr th {\n",
       "        vertical-align: top;\n",
       "    }\n",
       "\n",
       "    .dataframe thead th {\n",
       "        text-align: right;\n",
       "    }\n",
       "</style>\n",
       "<table border=\"1\" class=\"dataframe\">\n",
       "  <thead>\n",
       "    <tr style=\"text-align: right;\">\n",
       "      <th></th>\n",
       "      <th>text</th>\n",
       "      <th>target</th>\n",
       "    </tr>\n",
       "  </thead>\n",
       "  <tbody>\n",
       "    <tr>\n",
       "      <th>0</th>\n",
       "      <td>@USER She should ask a few native Americans wh...</td>\n",
       "      <td>OFF</td>\n",
       "    </tr>\n",
       "    <tr>\n",
       "      <th>1</th>\n",
       "      <td>@USER @USER Go home you’re drunk!!! @USER #MAG...</td>\n",
       "      <td>OFF</td>\n",
       "    </tr>\n",
       "    <tr>\n",
       "      <th>2</th>\n",
       "      <td>Amazon is investigating Chinese employees who ...</td>\n",
       "      <td>NOT</td>\n",
       "    </tr>\n",
       "    <tr>\n",
       "      <th>3</th>\n",
       "      <td>@USER Someone should'veTaken\" this piece of sh...</td>\n",
       "      <td>OFF</td>\n",
       "    </tr>\n",
       "    <tr>\n",
       "      <th>4</th>\n",
       "      <td>@USER @USER Obama wanted liberals &amp;amp; illega...</td>\n",
       "      <td>NOT</td>\n",
       "    </tr>\n",
       "  </tbody>\n",
       "</table>\n",
       "</div>"
      ],
      "text/plain": [
       "                                                text target\n",
       "0  @USER She should ask a few native Americans wh...    OFF\n",
       "1  @USER @USER Go home you’re drunk!!! @USER #MAG...    OFF\n",
       "2  Amazon is investigating Chinese employees who ...    NOT\n",
       "3  @USER Someone should'veTaken\" this piece of sh...    OFF\n",
       "4  @USER @USER Obama wanted liberals &amp; illega...    NOT"
      ]
     },
     "execution_count": 3,
     "metadata": {},
     "output_type": "execute_result"
    }
   ],
   "source": [
    "# load data for offensive english classification\n",
    "df2 = pd.read_csv('data/olid-training-v1.0.csv')\n",
    "df2 = df2[['tweet', 'subtask_a']]\n",
    "df2.columns = ['text', 'target']\n",
    "df2.head()"
   ]
  },
  {
   "cell_type": "code",
   "execution_count": 4,
   "metadata": {},
   "outputs": [],
   "source": [
    "def preprocess(text, rm_emoji=False):\n",
    "    \n",
    "    text = text.replace('@USER', '') # remove mentions (@USER)\n",
    "    text = text.replace('URL', '') # remove URLs\n",
    "    text = text.replace('&amp', 'and') # replace ampersand (&) with and\n",
    "    text = text.replace('&lt','') # remove &lt\n",
    "    text = text.replace('&gt','') # remove &gt\n",
    "    text = text.replace('\\d+','') # remove numbers\n",
    "    text = text.lower() # lowercase\n",
    "\n",
    "    # remove punctuation\n",
    "    for p in string.punctuation:\n",
    "        text = text.replace(p, '')\n",
    "\n",
    "    # remove emojis\n",
    "    if rm_emoji:\n",
    "        text = text.encode('ascii', 'ignore').decode('ascii')\n",
    "    \n",
    "    text = text.strip() # leading and trailing whitespaces\n",
    "\n",
    "    return text"
   ]
  },
  {
   "cell_type": "code",
   "execution_count": 5,
   "metadata": {},
   "outputs": [],
   "source": [
    "le1 = LabelEncoder()\n",
    "classes1 = [\n",
    "    'Arabic', 'Danish', 'Dutch', 'English', 'French', 'German',\n",
    "    'Greek', 'Hindi', 'Italian', 'Kannada', 'Malayalam', 'Portugeese',\n",
    "    'Russian', 'Spanish', 'Sweedish', 'Tamil', 'Turkish']\n",
    "\n",
    "df1['y'] = le1.fit_transform(df1['target'])\n",
    "df1['text'] = df1['text'].astype(str).apply(preprocess)"
   ]
  },
  {
   "cell_type": "code",
   "execution_count": 6,
   "metadata": {},
   "outputs": [],
   "source": [
    "le2 = LabelEncoder()\n",
    "classes2 = ['Offensive', 'Not offensive']\n",
    "\n",
    "df2['y'] = le2.fit_transform(df2['target'])\n",
    "df2['text'] = df2['text'].astype(str).apply(preprocess, rm_emoji=True)"
   ]
  },
  {
   "attachments": {},
   "cell_type": "markdown",
   "metadata": {},
   "source": [
    "## Prediciton pipeline"
   ]
  },
  {
   "cell_type": "code",
   "execution_count": 7,
   "metadata": {},
   "outputs": [],
   "source": [
    "# setup model pipeline and cv\n",
    "cv = StratifiedKFold(n_splits=5, shuffle=True, random_state=42)"
   ]
  },
  {
   "cell_type": "code",
   "execution_count": 8,
   "metadata": {},
   "outputs": [
    {
     "name": "stdout",
     "output_type": "stream",
     "text": [
      "Validating language detection model...\n",
      "CV accuracy: 0.9672 (0.0041)\n",
      "Fitting final language detection model...\n"
     ]
    }
   ],
   "source": [
    "# language detection model\n",
    "ld_model = Pipeline([\n",
    "    ('vect', CountVectorizer(strip_accents='unicode', lowercase=True)),\n",
    "    ('tfidf', TfidfTransformer()),\n",
    "    ('svd', TruncatedSVD(n_components=40)),\n",
    "    ('clf', HistGradientBoostingClassifier(learning_rate=0.05, random_state=42))\n",
    "])\n",
    "\n",
    "# obtain cv score\n",
    "print('Validating language detection model...')\n",
    "cv_results1 = cross_validate(ld_model, df1['text'], df1['y'], cv = cv, scoring = 'accuracy', verbose=0, n_jobs=-1)\n",
    "m1, s1 = np.mean(cv_results1['test_score']), np.std(cv_results1['test_score'])\n",
    "print(f'CV accuracy: {m1:.4f} ({s1:.4f})')\n",
    "\n",
    "# train final models\n",
    "print('Fitting final language detection model...')\n",
    "ld_model = ld_model.fit(df1['text'], df1['y'])"
   ]
  },
  {
   "cell_type": "code",
   "execution_count": 9,
   "metadata": {},
   "outputs": [
    {
     "name": "stdout",
     "output_type": "stream",
     "text": [
      "Validating language detection model...\n",
      "CV accuracy: 0.6934 (0.0029)\n",
      "Fitting final offensive english classification model...\n"
     ]
    }
   ],
   "source": [
    "# offensive english classification model\n",
    "oe_model = Pipeline([\n",
    "    ('vect', CountVectorizer(strip_accents='unicode', lowercase=True)),\n",
    "    ('tfidf', TfidfTransformer()),\n",
    "    ('svd', TruncatedSVD(n_components=40)),\n",
    "    ('clf', HistGradientBoostingClassifier(learning_rate=0.05, random_state=42))\n",
    "])\n",
    "\n",
    "# obtain cv score\n",
    "print('Validating language detection model...')\n",
    "cv_results2 = cross_validate(oe_model, df2['text'], df2['y'], cv = cv, scoring = 'accuracy', verbose=0, n_jobs=-1)\n",
    "m2, s2 = np.mean(cv_results2['test_score']), np.std(cv_results2['test_score'])\n",
    "print(f'CV accuracy: {m2:.4f} ({s2:.4f})')\n",
    "\n",
    "# train final models\n",
    "print('Fitting final offensive english classification model...')\n",
    "oe_model = oe_model.fit(df2['text'], df2['y'])"
   ]
  },
  {
   "cell_type": "code",
   "execution_count": 10,
   "metadata": {},
   "outputs": [],
   "source": [
    "# save final models\n",
    "out_path = 'app/model/'\n",
    "os.makedirs(out_path, exist_ok=True)\n",
    "\n",
    "# language detection\n",
    "with open(out_path + 'ld_model.pkl', 'wb') as f:\n",
    "    pickle.dump(ld_model, f)\n",
    "\n",
    "# offensive english\n",
    "with open(out_path + 'oe_model.pkl', 'wb') as f:\n",
    "    pickle.dump(oe_model, f)"
   ]
  }
 ],
 "metadata": {
  "kernelspec": {
   "display_name": "env",
   "language": "python",
   "name": "python3"
  },
  "language_info": {
   "codemirror_mode": {
    "name": "ipython",
    "version": 3
   },
   "file_extension": ".py",
   "mimetype": "text/x-python",
   "name": "python",
   "nbconvert_exporter": "python",
   "pygments_lexer": "ipython3",
   "version": "3.10.5"
  },
  "orig_nbformat": 4,
  "vscode": {
   "interpreter": {
    "hash": "d7bd45f30947c2302b9bd36cca932bfb0ab3308d22a3a0eaf69233a299d38ed4"
   }
  }
 },
 "nbformat": 4,
 "nbformat_minor": 2
}
